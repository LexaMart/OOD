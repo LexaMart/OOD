{
 "cells": [
  {
   "cell_type": "markdown",
   "source": [
    "## Import"
   ],
   "metadata": {
    "collapsed": false
   }
  },
  {
   "cell_type": "code",
   "execution_count": 3,
   "outputs": [],
   "source": [
    "import numpy as np\n",
    "import pandas as pd\n",
    "import matplotlib.pyplot as plt\n",
    "import seaborn as sns\n",
    "from statsmodels.tsa.arima.model import ARIMA\n",
    "from statsmodels.graphics.tsaplots import plot_acf"
   ],
   "metadata": {
    "collapsed": false
   }
  },
  {
   "cell_type": "markdown",
   "source": [
    "## Read dataset"
   ],
   "metadata": {
    "collapsed": false
   }
  },
  {
   "cell_type": "code",
   "execution_count": 4,
   "outputs": [
    {
     "data": {
      "text/plain": "            date   meantemp    humidity  wind_speed  meanpressure\n0     2013-01-01  10.000000   84.500000    0.000000   1015.666667\n1     2013-01-02   7.400000   92.000000    2.980000   1017.800000\n2     2013-01-03   7.166667   87.000000    4.633333   1018.666667\n3     2013-01-04   8.666667   71.333333    1.233333   1017.166667\n4     2013-01-05   6.000000   86.833333    3.700000   1016.500000\n...          ...        ...         ...         ...           ...\n1457  2016-12-28  17.217391   68.043478    3.547826   1015.565217\n1458  2016-12-29  15.238095   87.857143    6.000000   1016.904762\n1459  2016-12-30  14.095238   89.666667    6.266667   1017.904762\n1460  2016-12-31  15.052632   87.000000    7.325000   1016.100000\n1461  2017-01-01  10.000000  100.000000    0.000000   1016.000000\n\n[1462 rows x 5 columns]",
      "text/html": "<div>\n<style scoped>\n    .dataframe tbody tr th:only-of-type {\n        vertical-align: middle;\n    }\n\n    .dataframe tbody tr th {\n        vertical-align: top;\n    }\n\n    .dataframe thead th {\n        text-align: right;\n    }\n</style>\n<table border=\"1\" class=\"dataframe\">\n  <thead>\n    <tr style=\"text-align: right;\">\n      <th></th>\n      <th>date</th>\n      <th>meantemp</th>\n      <th>humidity</th>\n      <th>wind_speed</th>\n      <th>meanpressure</th>\n    </tr>\n  </thead>\n  <tbody>\n    <tr>\n      <th>0</th>\n      <td>2013-01-01</td>\n      <td>10.000000</td>\n      <td>84.500000</td>\n      <td>0.000000</td>\n      <td>1015.666667</td>\n    </tr>\n    <tr>\n      <th>1</th>\n      <td>2013-01-02</td>\n      <td>7.400000</td>\n      <td>92.000000</td>\n      <td>2.980000</td>\n      <td>1017.800000</td>\n    </tr>\n    <tr>\n      <th>2</th>\n      <td>2013-01-03</td>\n      <td>7.166667</td>\n      <td>87.000000</td>\n      <td>4.633333</td>\n      <td>1018.666667</td>\n    </tr>\n    <tr>\n      <th>3</th>\n      <td>2013-01-04</td>\n      <td>8.666667</td>\n      <td>71.333333</td>\n      <td>1.233333</td>\n      <td>1017.166667</td>\n    </tr>\n    <tr>\n      <th>4</th>\n      <td>2013-01-05</td>\n      <td>6.000000</td>\n      <td>86.833333</td>\n      <td>3.700000</td>\n      <td>1016.500000</td>\n    </tr>\n    <tr>\n      <th>...</th>\n      <td>...</td>\n      <td>...</td>\n      <td>...</td>\n      <td>...</td>\n      <td>...</td>\n    </tr>\n    <tr>\n      <th>1457</th>\n      <td>2016-12-28</td>\n      <td>17.217391</td>\n      <td>68.043478</td>\n      <td>3.547826</td>\n      <td>1015.565217</td>\n    </tr>\n    <tr>\n      <th>1458</th>\n      <td>2016-12-29</td>\n      <td>15.238095</td>\n      <td>87.857143</td>\n      <td>6.000000</td>\n      <td>1016.904762</td>\n    </tr>\n    <tr>\n      <th>1459</th>\n      <td>2016-12-30</td>\n      <td>14.095238</td>\n      <td>89.666667</td>\n      <td>6.266667</td>\n      <td>1017.904762</td>\n    </tr>\n    <tr>\n      <th>1460</th>\n      <td>2016-12-31</td>\n      <td>15.052632</td>\n      <td>87.000000</td>\n      <td>7.325000</td>\n      <td>1016.100000</td>\n    </tr>\n    <tr>\n      <th>1461</th>\n      <td>2017-01-01</td>\n      <td>10.000000</td>\n      <td>100.000000</td>\n      <td>0.000000</td>\n      <td>1016.000000</td>\n    </tr>\n  </tbody>\n</table>\n<p>1462 rows × 5 columns</p>\n</div>"
     },
     "execution_count": 4,
     "metadata": {},
     "output_type": "execute_result"
    }
   ],
   "source": [
    "dataset = pd.read_csv(\"input/DailyDelhiClimateTrain.csv\")\n",
    "dataset"
   ],
   "metadata": {
    "collapsed": false
   }
  },
  {
   "cell_type": "markdown",
   "source": [
    "## Count of duplicate and NaN values"
   ],
   "metadata": {
    "collapsed": false
   }
  },
  {
   "cell_type": "code",
   "execution_count": 5,
   "outputs": [
    {
     "name": "stdout",
     "output_type": "stream",
     "text": [
      "Any Duplicate Value: 0\n"
     ]
    },
    {
     "data": {
      "text/plain": "date            0\nmeantemp        0\nhumidity        0\nwind_speed      0\nmeanpressure    0\ndtype: int64"
     },
     "execution_count": 5,
     "metadata": {},
     "output_type": "execute_result"
    }
   ],
   "source": [
    "dup = dataset.duplicated().sum()\n",
    "print('Any Duplicate Value:',dup)\n",
    "dataset.isnull().sum()"
   ],
   "metadata": {
    "collapsed": false
   }
  }
 ],
 "metadata": {
  "kernelspec": {
   "display_name": "Python 3",
   "language": "python",
   "name": "python3"
  },
  "language_info": {
   "codemirror_mode": {
    "name": "ipython",
    "version": 2
   },
   "file_extension": ".py",
   "mimetype": "text/x-python",
   "name": "python",
   "nbconvert_exporter": "python",
   "pygments_lexer": "ipython2",
   "version": "2.7.6"
  }
 },
 "nbformat": 4,
 "nbformat_minor": 0
}
