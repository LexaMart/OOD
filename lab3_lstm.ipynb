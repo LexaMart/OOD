{
 "cells": [
  {
   "cell_type": "markdown",
   "id": "f9a58faa-d8a5-4423-90dc-09c0c5fbd506",
   "metadata": {
    "jp-MarkdownHeadingCollapsed": true
   },
   "source": [
    "## Imports"
   ]
  },
  {
   "cell_type": "code",
   "execution_count": 164,
   "id": "bb02916a-52dc-41eb-b95a-0bfe57bc771c",
   "metadata": {},
   "outputs": [],
   "source": [
    "import numpy as np\n",
    "import pandas as pd\n",
    "import nltk\n",
    "from nltk.corpus import stopwords\n",
    "import string\n",
    "from nltk.tokenize import word_tokenize\n",
    "from nltk.stem import WordNetLemmatizer\n",
    "\n",
    "from sklearn.metrics import confusion_matrix,classification_report\n",
    "\n",
    "import regex as re\n",
    "\n",
    "import tensorflow as tf\n",
    "from keras.preprocessing.text import Tokenizer\n",
    "from keras.preprocessing import sequence\n",
    "from keras.utils import pad_sequences\n",
    "from tensorflow.keras.layers import Embedding, Input, LSTM, Dense\n",
    "from keras.models import Model\n",
    "from tensorflow.keras.models import Sequential"
   ]
  },
  {
   "cell_type": "markdown",
   "id": "3c65949e-7690-4279-beb4-d6101fca2e61",
   "metadata": {
    "jp-MarkdownHeadingCollapsed": true
   },
   "source": [
    "## Load Data"
   ]
  },
  {
   "cell_type": "code",
   "execution_count": 165,
   "id": "bb4f88ad-3c41-4a29-b4ec-3f1e5bd6bbc7",
   "metadata": {},
   "outputs": [
    {
     "data": {
      "text/html": [
       "<div>\n",
       "<style scoped>\n",
       "    .dataframe tbody tr th:only-of-type {\n",
       "        vertical-align: middle;\n",
       "    }\n",
       "\n",
       "    .dataframe tbody tr th {\n",
       "        vertical-align: top;\n",
       "    }\n",
       "\n",
       "    .dataframe thead th {\n",
       "        text-align: right;\n",
       "    }\n",
       "</style>\n",
       "<table border=\"1\" class=\"dataframe\">\n",
       "  <thead>\n",
       "    <tr style=\"text-align: right;\">\n",
       "      <th></th>\n",
       "      <th>text</th>\n",
       "      <th>spam</th>\n",
       "    </tr>\n",
       "  </thead>\n",
       "  <tbody>\n",
       "    <tr>\n",
       "      <th>0</th>\n",
       "      <td>Subject: naturally irresistible your corporate...</td>\n",
       "      <td>1</td>\n",
       "    </tr>\n",
       "    <tr>\n",
       "      <th>1</th>\n",
       "      <td>Subject: the stock trading gunslinger  fanny i...</td>\n",
       "      <td>1</td>\n",
       "    </tr>\n",
       "    <tr>\n",
       "      <th>2</th>\n",
       "      <td>Subject: unbelievable new homes made easy  im ...</td>\n",
       "      <td>1</td>\n",
       "    </tr>\n",
       "    <tr>\n",
       "      <th>3</th>\n",
       "      <td>Subject: 4 color printing special  request add...</td>\n",
       "      <td>1</td>\n",
       "    </tr>\n",
       "    <tr>\n",
       "      <th>4</th>\n",
       "      <td>Subject: do not have money , get software cds ...</td>\n",
       "      <td>1</td>\n",
       "    </tr>\n",
       "  </tbody>\n",
       "</table>\n",
       "</div>"
      ],
      "text/plain": [
       "                                                text  spam\n",
       "0  Subject: naturally irresistible your corporate...     1\n",
       "1  Subject: the stock trading gunslinger  fanny i...     1\n",
       "2  Subject: unbelievable new homes made easy  im ...     1\n",
       "3  Subject: 4 color printing special  request add...     1\n",
       "4  Subject: do not have money , get software cds ...     1"
      ]
     },
     "execution_count": 165,
     "metadata": {},
     "output_type": "execute_result"
    }
   ],
   "source": [
    "# Load the data\n",
    "df = pd.read_csv('input/emails.csv')\n",
    "df.head()"
   ]
  },
  {
   "cell_type": "code",
   "execution_count": 166,
   "id": "99033a6d-187d-41fc-9f95-b147004f6abb",
   "metadata": {},
   "outputs": [],
   "source": [
    "# Dropping the duplicate columns\n",
    "df.drop_duplicates(inplace = True)"
   ]
  },
  {
   "cell_type": "code",
   "execution_count": 167,
   "id": "f2842bca-6bd7-4739-b3e2-b147095d71f9",
   "metadata": {},
   "outputs": [
    {
     "data": {
      "text/plain": [
       "0    Subject: naturally irresistible your corporate...\n",
       "1    Subject: the stock trading gunslinger  fanny i...\n",
       "2    Subject: unbelievable new homes made easy  im ...\n",
       "3    Subject: 4 color printing special  request add...\n",
       "4    Subject: do not have money , get software cds ...\n",
       "Name: text, dtype: object"
      ]
     },
     "execution_count": 167,
     "metadata": {},
     "output_type": "execute_result"
    }
   ],
   "source": [
    "# Checking counts of spams and non-spams\n",
    "df['spam'].value_counts()\n",
    "df.text.head()"
   ]
  },
  {
   "cell_type": "markdown",
   "id": "545a036e-d4ed-4e08-9d50-105b11f407b1",
   "metadata": {
    "jp-MarkdownHeadingCollapsed": true
   },
   "source": [
    "## Preprocessing data (stopwords, punctuation & lemmatization)"
   ]
  },
  {
   "cell_type": "code",
   "execution_count": 168,
   "id": "20fb2cba-ea9e-4a4f-93ef-fc6ebff7170e",
   "metadata": {},
   "outputs": [],
   "source": [
    "def text_process(text):\n",
    "  STOPWORDS = set(stopwords.words('english'))\n",
    "  STOPWORDS.add('subject')\n",
    "  lemmatizer = WordNetLemmatizer()\n",
    "  \n",
    "  text = text.translate(str.maketrans('', '', string.punctuation))\n",
    "  text = [word for word in text.split() if word.lower() not in STOPWORDS]\n",
    "  return \" \".join(text)"
   ]
  },
  {
   "cell_type": "code",
   "execution_count": 169,
   "id": "5399698b-1c14-4395-8509-fabb39aba590",
   "metadata": {},
   "outputs": [],
   "source": [
    "def tokenize(text):\n",
    "    split=re.split(\"\\W+\",text)\n",
    "    return split"
   ]
  },
  {
   "cell_type": "code",
   "execution_count": 170,
   "id": "9bf9f67b-f7a9-4354-90fd-0348d66b517b",
   "metadata": {},
   "outputs": [
    {
     "name": "stderr",
     "output_type": "stream",
     "text": [
      "[nltk_data] Downloading package wordnet to\n",
      "[nltk_data]     C:\\Users\\User\\AppData\\Roaming\\nltk_data...\n",
      "[nltk_data]   Package wordnet is already up-to-date!\n"
     ]
    }
   ],
   "source": [
    "nltk.download('wordnet')\n",
    "lemmatizer = WordNetLemmatizer()\n",
    "def lemmatize_words(text):\n",
    "    return \" \".join([lemmatizer.lemmatize(word) for word in text])"
   ]
  },
  {
   "cell_type": "code",
   "execution_count": 171,
   "id": "c04ab888-4d78-4e14-8cb9-47d8cfb593ed",
   "metadata": {},
   "outputs": [
    {
     "data": {
      "text/plain": [
       "0    naturally irresistible corporate identity lt r...\n",
       "1    stock trading gunslinger fanny merrill muzo co...\n",
       "2    unbelievable new home made easy im wanting sho...\n",
       "3    4 color printing special request additional in...\n",
       "4    money get software cd software compatibility g...\n",
       "Name: text, dtype: object"
      ]
     },
     "execution_count": 171,
     "metadata": {},
     "output_type": "execute_result"
    }
   ],
   "source": [
    "#Show the processed data\n",
    "df.text = df.text.apply(text_process)\n",
    "df.text = df.text.apply(tokenize)\n",
    "df.text = df.text.apply(lemmatize_words)\n",
    "df.text.head()"
   ]
  },
  {
   "cell_type": "markdown",
   "id": "36a8bc47-9517-4117-939a-51845ff81307",
   "metadata": {
    "jp-MarkdownHeadingCollapsed": true
   },
   "source": [
    "## Vectorization of the text data"
   ]
  },
  {
   "cell_type": "code",
   "execution_count": 172,
   "id": "73a04c36-a8f0-4ec5-ba39-fb9448a6916a",
   "metadata": {},
   "outputs": [],
   "source": [
    "vocab_size = 10000\n",
    "max_len = 250\n",
    "\n",
    "tok = Tokenizer(num_words=vocab_size)\n",
    "tok.fit_on_texts(df.text)\n",
    "sequences = tok.texts_to_sequences(df.text)\n",
    "sequences_matrix = pad_sequences(sequences, maxlen=max_len)"
   ]
  },
  {
   "cell_type": "code",
   "execution_count": 173,
   "id": "aafaca54-5ad8-4dd3-bdfb-dda78413efc7",
   "metadata": {},
   "outputs": [
    {
     "data": {
      "text/plain": [
       "array([   0,    0,    0,    0,    0,    0,    0,    0,    0,    0,    0,\n",
       "          0,    0,    0,    0,    0,    0,    0,    0,    0,    0,    0,\n",
       "          0,    0,    0,    0,    0,    0,    0,    0,    0,    0,    0,\n",
       "          0,    0,    0,    0,    0,    0,    0,    0,    0,    0,    0,\n",
       "          0,    0,    0,    0,    0,    0,    0,    0,    0,    0,    0,\n",
       "          0,    0,    0,    0,    0,    0,    0,    0,    0,    0,    0,\n",
       "          0,    0,    0,    0,    0,    0,    0,    0,    0,    0,    0,\n",
       "          0,    0,    0,    0,    0,    0,    0,    0,    0,    0,    0,\n",
       "          0,    0,    0,    0,    0,    0,    0,    0,    0,    0,    0,\n",
       "          0,    0,    0,    0,    0,    0,    0,    0,    0,    0,    0,\n",
       "          0,    0,    0,    0,    0,    0,    0,    0,    0,    0,    0,\n",
       "          0,    0,    0,    0,    0,    0,    0,    0,    0,    0,    0,\n",
       "          0,    0,    0,    0,    0,    0, 5188,  439, 1523, 3516,  379,\n",
       "        808, 3947,   27,   29,  328, 5622,   26, 8247,  107, 4042,  573,\n",
       "       5394, 5395, 1512,  201,   61, 1482,  161, 1663, 1643, 7178, 1534,\n",
       "       3858,   27, 9862,  605,  324, 5189, 5860, 7179,  403,  107,  139,\n",
       "        777,   31,  587, 4043, 2543, 4162, 3948,   29, 1643,  371,  325,\n",
       "        605,  161,  777,   97,  881,  575, 4044,  795,  239,  205,  573,\n",
       "       3173,  471, 1825, 3859,   27, 1002, 1017,  573, 1295,  615, 1100,\n",
       "        736,  106,  488,   65,  102, 4163,  160,  201,  488,  357,  626,\n",
       "       4045,   70,  573,  664,  185,  419,   31,   48, 4046,  371, 1236,\n",
       "         61, 2187, 1076,  405, 1903, 1167,  180, 1806,  569,  160, 1341,\n",
       "        875, 4164, 1101,  246, 2083,   79,  465,  153])"
      ]
     },
     "execution_count": 173,
     "metadata": {},
     "output_type": "execute_result"
    }
   ],
   "source": [
    "sequences_matrix[0]"
   ]
  },
  {
   "cell_type": "markdown",
   "id": "dac055e5-d10b-4502-a1e0-f66defc0d146",
   "metadata": {
    "jp-MarkdownHeadingCollapsed": true
   },
   "source": [
    "## TTS"
   ]
  },
  {
   "cell_type": "code",
   "execution_count": 174,
   "id": "24add17a-4dde-40ef-bfae-93ac15f51117",
   "metadata": {},
   "outputs": [],
   "source": [
    "from sklearn.model_selection import train_test_split\n",
    "X_train, X_test, y_train, y_test = train_test_split(sequences_matrix, df.spam, test_size = 0.2, random_state = 1)"
   ]
  },
  {
   "cell_type": "markdown",
   "id": "617c5eb0-4cab-4270-bcc9-72657b0742a1",
   "metadata": {
    "jp-MarkdownHeadingCollapsed": true
   },
   "source": [
    "## Creating model"
   ]
  },
  {
   "cell_type": "code",
   "execution_count": 175,
   "id": "a07ddbb1-9ad4-49c9-80e7-ea17765fa478",
   "metadata": {},
   "outputs": [
    {
     "name": "stdout",
     "output_type": "stream",
     "text": [
      "Model: \"sequential_7\"\n",
      "_________________________________________________________________\n",
      " Layer (type)                Output Shape              Param #   \n",
      "=================================================================\n",
      " embedding_7 (Embedding)     (None, 250, 200)          2000000   \n",
      "                                                                 \n",
      " lstm_7 (LSTM)               (None, 64)                67840     \n",
      "                                                                 \n",
      " dense_7 (Dense)             (None, 1)                 65        \n",
      "                                                                 \n",
      "=================================================================\n",
      "Total params: 2,067,905\n",
      "Trainable params: 2,067,905\n",
      "Non-trainable params: 0\n",
      "_________________________________________________________________\n"
     ]
    }
   ],
   "source": [
    "model = Sequential()\n",
    "model.add(Embedding(vocab_size, 200, input_length=max_len))\n",
    "model.add(LSTM(64))\n",
    "model.add(Dense(1,activation='sigmoid'))\n",
    "model.summary()\n",
    "model.compile(loss='binary_crossentropy', optimizer='adam', metrics=['accuracy'])"
   ]
  },
  {
   "cell_type": "markdown",
   "id": "e32a11ec-b371-4fe0-9126-68b62a0183d2",
   "metadata": {
    "jp-MarkdownHeadingCollapsed": true
   },
   "source": [
    "## Fit"
   ]
  },
  {
   "cell_type": "code",
   "execution_count": 176,
   "id": "a1e0f7a4-2d93-4131-b21b-ae69d5900eb1",
   "metadata": {},
   "outputs": [
    {
     "name": "stdout",
     "output_type": "stream",
     "text": [
      "Epoch 1/5\n",
      "36/36 [==============================] - 16s 395ms/step - loss: 0.3916 - accuracy: 0.8354 - val_loss: 0.1265 - val_accuracy: 0.9701\n",
      "Epoch 2/5\n",
      "36/36 [==============================] - 14s 393ms/step - loss: 0.0703 - accuracy: 0.9886 - val_loss: 0.1063 - val_accuracy: 0.9596\n",
      "Epoch 3/5\n",
      "36/36 [==============================] - 15s 404ms/step - loss: 0.0245 - accuracy: 0.9930 - val_loss: 0.0538 - val_accuracy: 0.9816\n",
      "Epoch 4/5\n",
      "36/36 [==============================] - 14s 401ms/step - loss: 0.0065 - accuracy: 0.9993 - val_loss: 0.0504 - val_accuracy: 0.9860\n",
      "Epoch 5/5\n",
      "36/36 [==============================] - 15s 409ms/step - loss: 0.0031 - accuracy: 0.9996 - val_loss: 0.0507 - val_accuracy: 0.9851\n"
     ]
    },
    {
     "data": {
      "text/plain": [
       "<keras.callbacks.History at 0x25b0ad77550>"
      ]
     },
     "execution_count": 176,
     "metadata": {},
     "output_type": "execute_result"
    }
   ],
   "source": [
    "model.fit(X_train,y_train,validation_data=(X_test,y_test), epochs=5, batch_size=128, validation_split=0.2)"
   ]
  },
  {
   "cell_type": "markdown",
   "id": "b1a4bc34-375e-4d48-9ce7-e444f8095168",
   "metadata": {
    "jp-MarkdownHeadingCollapsed": true
   },
   "source": [
    "## Show scores"
   ]
  },
  {
   "cell_type": "code",
   "execution_count": 177,
   "id": "02673080-8c1d-4464-bdc6-d8580f987fec",
   "metadata": {},
   "outputs": [
    {
     "name": "stdout",
     "output_type": "stream",
     "text": [
      "36/36 [==============================] - 2s 43ms/step\n",
      "Test loss: 0.05070885643362999\n",
      "Test accuracy: 0.9850746393203735\n",
      "confusion matrix:\n",
      " [[866 273]\n",
      " [  0   0]]\n",
      "              precision    recall  f1-score   support\n",
      "\n",
      "           0       0.76      1.00      0.86       866\n",
      "           1       0.00      0.00      0.00       273\n",
      "\n",
      "    accuracy                           0.76      1139\n",
      "   macro avg       0.38      0.50      0.43      1139\n",
      "weighted avg       0.58      0.76      0.66      1139\n",
      "\n"
     ]
    }
   ],
   "source": [
    "scores = model.evaluate(X_test, y_test, verbose=0)\n",
    "predict_x=model.predict(X_test) \n",
    "y_pred=np.argmax(predict_x,axis=1)\n",
    "\n",
    "print('Test loss:', scores[0])\n",
    "print('Test accuracy:', scores[1])\n",
    "print('confusion matrix:\\n', confusion_matrix(y_pred,y_test))\n",
    "print(classification_report(y_test, y_pred))"
   ]
  }
 ],
 "metadata": {
  "kernelspec": {
   "display_name": "Python 3 (ipykernel)",
   "language": "python",
   "name": "python3"
  },
  "language_info": {
   "codemirror_mode": {
    "name": "ipython",
    "version": 3
   },
   "file_extension": ".py",
   "mimetype": "text/x-python",
   "name": "python",
   "nbconvert_exporter": "python",
   "pygments_lexer": "ipython3",
   "version": "3.10.10"
  }
 },
 "nbformat": 4,
 "nbformat_minor": 5
}
