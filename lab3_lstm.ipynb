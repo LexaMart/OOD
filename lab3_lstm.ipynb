{
 "cells": [
  {
   "cell_type": "code",
   "execution_count": 32,
   "id": "bb02916a-52dc-41eb-b95a-0bfe57bc771c",
   "metadata": {},
   "outputs": [],
   "source": [
    "# import libraries\n",
    "import numpy as np\n",
    "import pandas as pd\n",
    "import nltk\n",
    "from nltk.corpus import stopwords\n",
    "import string\n",
    "from nltk.tokenize import word_tokenize\n",
    "from sklearn.metrics import confusion_matrix\n",
    "\n",
    "import seaborn as sns\n",
    "import matplotlib.pyplot as plt\n",
    "%matplotlib inline\n",
    "\n",
    "from sklearn.naive_bayes import GaussianNB\n",
    "from sklearn.ensemble import AdaBoostClassifier,RandomForestClassifier\n",
    "import xgboost\n",
    "from sklearn import svm,tree\n",
    "from sklearn.neighbors import KNeighborsClassifier\n",
    "from sklearn.metrics import confusion_matrix,classification_report,accuracy_score\n",
    "\n",
    "\n",
    "import tensorflow as tf\n",
    "from keras.preprocessing.text import Tokenizer\n",
    "from keras.preprocessing import sequence\n",
    "from keras.utils import pad_sequences\n",
    "from tensorflow.keras.layers import Embedding,Input,LSTM,Dense,Bidirectional,Dropout, Activation\n",
    "from keras.models import Model\n",
    "from tensorflow.keras.models import Sequential\n",
    "tf.__version__\n",
    "import warnings\n",
    "warnings.filterwarnings(\"ignore\")"
   ]
  },
  {
   "cell_type": "code",
   "execution_count": 33,
   "id": "bb4f88ad-3c41-4a29-b4ec-3f1e5bd6bbc7",
   "metadata": {},
   "outputs": [],
   "source": [
    "# Load the data\n",
    "df = pd.read_csv('input/emails.csv')\n",
    "#df.head()"
   ]
  },
  {
   "cell_type": "code",
   "execution_count": 34,
   "id": "99033a6d-187d-41fc-9f95-b147004f6abb",
   "metadata": {},
   "outputs": [
    {
     "name": "stdout",
     "output_type": "stream",
     "text": [
      "Number of duplicate rows in the data are :  33 \n",
      "So we drop them\n"
     ]
    }
   ],
   "source": [
    "# dropping the duplicate columns\n",
    "df.drop_duplicates(inplace = True)"
   ]
  },
  {
   "cell_type": "code",
   "execution_count": 57,
   "id": "f2842bca-6bd7-4739-b3e2-b147095d71f9",
   "metadata": {},
   "outputs": [
    {
     "data": {
      "text/plain": [
       "0    4327\n",
       "1    1368\n",
       "Name: spam, dtype: int64"
      ]
     },
     "execution_count": 57,
     "metadata": {},
     "output_type": "execute_result"
    }
   ],
   "source": [
    "# Checking counts of spams and non-spams\n",
    "df['spam'].value_counts()"
   ]
  },
  {
   "cell_type": "markdown",
   "id": "545a036e-d4ed-4e08-9d50-105b11f407b1",
   "metadata": {},
   "source": [
    "## Preprocessing data"
   ]
  },
  {
   "cell_type": "code",
   "execution_count": 48,
   "id": "20fb2cba-ea9e-4a4f-93ef-fc6ebff7170e",
   "metadata": {},
   "outputs": [],
   "source": [
    "#1.Punctuations are [!\"#$%&'()*+,-./:;<=>?@[\\]^_`{|}~]\n",
    "#2.Stop words in natural language processing, are useless words (data).\n",
    "def text_process(text):\n",
    "  STOPWORDS = set(stopwords.words('english'))\n",
    "  STOPWORDS.add('subject')\n",
    "  \n",
    "  text = text.translate(str.maketrans('', '', string.punctuation))\n",
    "  text = [word for word in text.split() if word.lower() not in STOPWORDS]\n",
    "  return \" \".join(text)"
   ]
  },
  {
   "cell_type": "code",
   "execution_count": 49,
   "id": "c04ab888-4d78-4e14-8cb9-47d8cfb593ed",
   "metadata": {},
   "outputs": [
    {
     "data": {
      "text/plain": [
       "0    naturally irresistible corporate identity lt r...\n",
       "1    stock trading gunslinger fanny merrill muzo co...\n",
       "2    unbelievable new homes made easy im wanting sh...\n",
       "3    4 color printing special request additional in...\n",
       "4    money get software cds software compatibility ...\n",
       "Name: text, dtype: object"
      ]
     },
     "execution_count": 49,
     "metadata": {},
     "output_type": "execute_result"
    }
   ],
   "source": [
    "#Show the processed data\n",
    "df.text = df.text.apply(text_process)\n",
    "df.text.head()"
   ]
  },
  {
   "cell_type": "markdown",
   "id": "36a8bc47-9517-4117-939a-51845ff81307",
   "metadata": {},
   "source": [
    "## Vectorization of the text data"
   ]
  },
  {
   "cell_type": "code",
   "execution_count": 50,
   "id": "73a04c36-a8f0-4ec5-ba39-fb9448a6916a",
   "metadata": {},
   "outputs": [],
   "source": [
    "vocab_size = 10000\n",
    "max_len = 250\n",
    "\n",
    "# Tokenize the mails\n",
    "tok = Tokenizer(num_words=vocab_size)\n",
    "tok.fit_on_texts(df.text)\n",
    "\n",
    "# Use text_to_sequence to convert it into vectors\n",
    "sequences = tok.texts_to_sequences(df.text)\n",
    "\n",
    "# pad seqence to create a matrix of equal length mails\n",
    "sequences_matrix = pad_sequences(sequences,maxlen=max_len)"
   ]
  },
  {
   "cell_type": "code",
   "execution_count": 51,
   "id": "aafaca54-5ad8-4dd3-bdfb-dda78413efc7",
   "metadata": {},
   "outputs": [
    {
     "data": {
      "text/plain": [
       "array([   0,    0,    0,    0,    0,    0,    0,    0,    0,    0,    0,\n",
       "          0,    0,    0,    0,    0,    0,    0,    0,    0,    0,    0,\n",
       "          0,    0,    0,    0,    0,    0,    0,    0,    0,    0,    0,\n",
       "          0,    0,    0,    0,    0,    0,    0,    0,    0,    0,    0,\n",
       "          0,    0,    0,    0,    0,    0,    0,    0,    0,    0,    0,\n",
       "          0,    0,    0,    0,    0,    0,    0,    0,    0,    0,    0,\n",
       "          0,    0,    0,    0,    0,    0,    0,    0,    0,    0,    0,\n",
       "          0,    0,    0,    0,    0,    0,    0,    0,    0,    0,    0,\n",
       "          0,    0,    0,    0,    0,    0,    0,    0,    0,    0,    0,\n",
       "          0,    0,    0,    0,    0,    0,    0,    0,    0,    0,    0,\n",
       "          0,    0,    0,    0,    0,    0,    0,    0,    0,    0,    0,\n",
       "          0,    0,    0,    0,    0,    0,    0,    0,    0,    0,    0,\n",
       "          0,    0,    0,    0,    0,    0,    0, 5664,  408, 1651, 3769,\n",
       "        352,  783, 4270,   49,   58,  296, 6153,   24, 9043,   97, 4380,\n",
       "        720, 5915, 5916, 1556,  198,   62, 2030,  146, 1722, 1870, 7868,\n",
       "       1583, 4165,   49,  569,  299, 5665, 6427, 7869,  376,   97,  249,\n",
       "        756,   31,  735, 4381, 2915, 4509, 4271,   58, 1870,  344,  664,\n",
       "        569,  146,  756,  100,  904, 1161, 4382,  980,  211,  186, 2371,\n",
       "       3401,  449, 1906, 4166,   49, 1135, 1021,  720, 1312,  586, 2429,\n",
       "        716,   94,  570,   57,  165, 4510,  340,  198,  570,  333,  842,\n",
       "       4383,   63,  720, 4049,  175,  393,   31,  193, 4384,  344, 1259,\n",
       "         62, 3615, 1230,  378, 1991, 1162,  167, 1888,  618,  329, 1356,\n",
       "       1923, 4511, 1178,  799, 2267,   85,  574,  134])"
      ]
     },
     "execution_count": 51,
     "metadata": {},
     "output_type": "execute_result"
    }
   ],
   "source": [
    "sequences_matrix[0]"
   ]
  },
  {
   "cell_type": "code",
   "execution_count": 52,
   "id": "24add17a-4dde-40ef-bfae-93ac15f51117",
   "metadata": {},
   "outputs": [],
   "source": [
    "from sklearn.model_selection import train_test_split\n",
    "X_train, X_test, y_train, y_test = train_test_split(sequences_matrix, df.spam, test_size = 0.2, random_state = 1)"
   ]
  },
  {
   "cell_type": "code",
   "execution_count": 53,
   "id": "a07ddbb1-9ad4-49c9-80e7-ea17765fa478",
   "metadata": {},
   "outputs": [
    {
     "name": "stdout",
     "output_type": "stream",
     "text": [
      "Model: \"sequential_1\"\n",
      "_________________________________________________________________\n",
      " Layer (type)                Output Shape              Param #   \n",
      "=================================================================\n",
      " embedding_1 (Embedding)     (None, 250, 200)          2000000   \n",
      "                                                                 \n",
      " lstm_1 (LSTM)               (None, 32)                29824     \n",
      "                                                                 \n",
      " dense_1 (Dense)             (None, 1)                 33        \n",
      "                                                                 \n",
      "=================================================================\n",
      "Total params: 2,029,857\n",
      "Trainable params: 2,029,857\n",
      "Non-trainable params: 0\n",
      "_________________________________________________________________\n"
     ]
    }
   ],
   "source": [
    "model = Sequential()\n",
    "model.add(Embedding(vocab_size, 200, input_length=max_len))\n",
    "model.add(LSTM(32))\n",
    "model.add(Dense(1,activation='sigmoid'))\n",
    "model.summary()\n",
    "model.compile(loss='binary_crossentropy',optimizer='adam',metrics=['accuracy'])"
   ]
  },
  {
   "cell_type": "code",
   "execution_count": 54,
   "id": "a1e0f7a4-2d93-4131-b21b-ae69d5900eb1",
   "metadata": {},
   "outputs": [
    {
     "name": "stdout",
     "output_type": "stream",
     "text": [
      "Epoch 1/5\n",
      "72/72 [==============================] - 27s 297ms/step - loss: 0.3058 - accuracy: 0.8837 - val_loss: 0.1009 - val_accuracy: 0.9816\n",
      "Epoch 2/5\n",
      "72/72 [==============================] - 20s 276ms/step - loss: 0.0506 - accuracy: 0.9928 - val_loss: 0.0500 - val_accuracy: 0.9886\n",
      "Epoch 3/5\n",
      "72/72 [==============================] - 20s 285ms/step - loss: 0.0135 - accuracy: 0.9991 - val_loss: 0.0431 - val_accuracy: 0.9868\n",
      "Epoch 4/5\n",
      "72/72 [==============================] - 19s 268ms/step - loss: 0.0175 - accuracy: 0.9965 - val_loss: 0.0848 - val_accuracy: 0.9701\n",
      "Epoch 5/5\n",
      "72/72 [==============================] - 20s 276ms/step - loss: 0.0110 - accuracy: 0.9987 - val_loss: 0.0636 - val_accuracy: 0.9816\n"
     ]
    },
    {
     "data": {
      "text/plain": [
       "<keras.callbacks.History at 0x241569eb0a0>"
      ]
     },
     "execution_count": 54,
     "metadata": {},
     "output_type": "execute_result"
    }
   ],
   "source": [
    "model.fit(X_train,y_train,validation_data=(X_test,y_test),epochs=5,batch_size=64)"
   ]
  },
  {
   "cell_type": "code",
   "execution_count": 55,
   "id": "02673080-8c1d-4464-bdc6-d8580f987fec",
   "metadata": {},
   "outputs": [
    {
     "name": "stdout",
     "output_type": "stream",
     "text": [
      "36/36 [==============================] - 3s 57ms/step\n",
      "Test loss: 0.06355982273817062\n",
      "Test accuracy: 0.9815627932548523\n",
      "confusion matrix:\n",
      " [[866 273]\n",
      " [  0   0]]\n"
     ]
    }
   ],
   "source": [
    "scores = model.evaluate(X_test, y_test, verbose=0)\n",
    "predict_x=model.predict(X_test) \n",
    "y_pred=np.argmax(predict_x,axis=1)\n",
    "\n",
    "print('Test loss:', scores[0])\n",
    "print('Test accuracy:', scores[1])\n",
    "print('confusion matrix:\\n', confusion_matrix(y_pred,y_test))"
   ]
  },
  {
   "cell_type": "code",
   "execution_count": null,
   "id": "a6991332-bf11-4b72-abdc-57c7dfec91e5",
   "metadata": {},
   "outputs": [],
   "source": []
  }
 ],
 "metadata": {
  "kernelspec": {
   "display_name": "Python 3 (ipykernel)",
   "language": "python",
   "name": "python3"
  },
  "language_info": {
   "codemirror_mode": {
    "name": "ipython",
    "version": 3
   },
   "file_extension": ".py",
   "mimetype": "text/x-python",
   "name": "python",
   "nbconvert_exporter": "python",
   "pygments_lexer": "ipython3",
   "version": "3.10.10"
  }
 },
 "nbformat": 4,
 "nbformat_minor": 5
}
